{
 "cells": [
  {
   "cell_type": "markdown",
   "metadata": {},
   "source": [
    "# Category Theory"
   ]
  },
  {
   "cell_type": "markdown",
   "metadata": {},
   "source": [
    "## Category: The Essence of Composition\n",
    "\n",
    "### 1\n",
    "* Categories consist of objects and arrows\n",
    "* Arrows (a note that they can be called _morphisms_) can be thought of as functions\n",
    "* In a category, if `A -> B -> C` then there must exist `A -> C`. The easiest analogy to mathematics here is `g o f (x)`\n",
    "* Composition is _associative_; essentially you don't need parentheses to express them\n",
    "    \n",
    "        h o (g o f) = (h o g) o f = h o g o f\n",
    "* For every object `A` there is an arrow which points back to `A` => The _identity_"
   ]
  },
  {
   "cell_type": "markdown",
   "metadata": {},
   "source": [
    "#### Challenges\n",
    "\n",
    "1. Identity (note that Identity is built into F#)"
   ]
  },
  {
   "cell_type": "code",
   "execution_count": null,
   "metadata": {
    "dotnet_interactive": {
     "language": "fsharp"
    }
   },
   "outputs": [
    {
     "name": "stdout",
     "output_type": "stream",
     "text": [
      "Identity of 10 = 10\n",
      "Identity of 90 = 90\n"
     ]
    }
   ],
   "source": [
    "// The identity is just a built-in\n",
    "printfn $\"Identity of 10 = {id 10}\"\n",
    "\n",
    "// So how would it be defined?\n",
    "type Identity<'a> = 'a -> 'a\n",
    "\n",
    "let identity x = x\n",
    "printfn $\"Identity of 90 = {identity 90}\""
   ]
  },
  {
   "cell_type": "markdown",
   "metadata": {},
   "source": [
    "2. Implement the composition function (composition built into F#)"
   ]
  },
  {
   "cell_type": "code",
   "execution_count": null,
   "metadata": {
    "dotnet_interactive": {
     "language": "fsharp"
    }
   },
   "outputs": [
    {
     "name": "stdout",
     "output_type": "stream",
     "text": [
      "f o g (1) = 20\n"
     ]
    },
    {
     "data": {
      "text/html": [
       "<div class=\"dni-plaintext\">20</div>"
      ]
     },
     "metadata": {},
     "output_type": "display_data"
    }
   ],
   "source": [
    "let f x = x + 1\n",
    "let g x = 10 * x\n",
    "\n",
    "printfn $\"f o g (1) = 20\"\n",
    "(f >> g ) 1"
   ]
  },
  {
   "cell_type": "markdown",
   "metadata": {},
   "source": [
    "3. Prove the above respects identity\n",
    "* If I compose the identity with the identity I get the identity\n",
    "* Remembering that the identity is associative, if I compose in the inverse order, I should obtain the same result"
   ]
  },
  {
   "cell_type": "code",
   "execution_count": null,
   "metadata": {
    "dotnet_interactive": {
     "language": "fsharp"
    }
   },
   "outputs": [
    {
     "name": "stdout",
     "output_type": "stream",
     "text": [
      "(identity >> identity) 1 = 1 (should be 1)\n",
      "(identity >> (+) 1 ) 1 = 2 (should be 2, associativity)\n",
      "((+) 1  >> identity) 1 = 2 (should be 2, associativity)\n"
     ]
    }
   ],
   "source": [
    "printfn $\"(identity >> identity) 1 = {(identity >> identity) 1} (should be 1)\"\n",
    "printfn $\"(identity >> (+) 1 ) 1 = {(identity >> (+) 1 ) 1} (should be 2, associativity)\"\n",
    "printfn $\"((+) 1  >> identity) 1 = {((+) 1  >> identity) 1 } (should be 2, associativity)\""
   ]
  },
  {
   "cell_type": "markdown",
   "metadata": {},
   "source": [
    "### 2\n",
    "\n",
    "#### Challenges\n",
    "\n",
    "1. Memoise a function"
   ]
  },
  {
   "cell_type": "code",
   "execution_count": null,
   "metadata": {
    "dotnet_interactive": {
     "language": "fsharp"
    }
   },
   "outputs": [
    {
     "name": "stdout",
     "output_type": "stream",
     "text": [
      "Function result of 10 will now be cached\n",
      "10\n"
     ]
    }
   ],
   "source": [
    "open System.Collections.Generic\n",
    "open System.Threading\n",
    "open FSharp.Core\n",
    "\n",
    "// Create a function that will memoise the function provided\n",
    "let memoise (func: 'a -> 'b) =\n",
    "\n",
    "    let memoised = Dictionary<_, 'b>()\n",
    "\n",
    "    // Return the memoising mechanism to the caller\n",
    "    let execute f = \n",
    "        match memoised.TryGetValue f with\n",
    "        | true, f -> f\n",
    "        | false, _ ->\n",
    "            let result = func f\n",
    "            memoised.Add(f, result)\n",
    "            printfn $\"Function result of {result} will now be cached\"\n",
    "            result\n",
    "    \n",
    "    execute\n",
    "\n",
    "let tenSeconds (x: 'a) : 'a = \n",
    "    Thread.Sleep(10000)\n",
    "    x\n",
    "\n",
    "let slow = memoise tenSeconds\n",
    "\n",
    "slow 10\n",
    "printfn $\"{slow 10}\"\n",
    "\n",
    "\n"
   ]
  },
  {
   "cell_type": "markdown",
   "metadata": {},
   "source": [
    "2. Memoise Random number from standard library"
   ]
  },
  {
   "cell_type": "code",
   "execution_count": null,
   "metadata": {
    "dotnet_interactive": {
     "language": "fsharp"
    }
   },
   "outputs": [
    {
     "name": "stdout",
     "output_type": "stream",
     "text": [
      "FSI_0073+memoise@11-10[System.Int32,System.Random]\n",
      "FSI_0073+memoise@11-10[System.Int32,System.Random]\n",
      "FSI_0073+memoise@11-10[System.Int32,System.Random]\n"
     ]
    }
   ],
   "source": [
    "let memoisedRandom = \n",
    "    let random = System.Random()\n",
    "    fun () -> random.Next()\n",
    "\n",
    "printfn $\"{memoisedRandom}\"\n",
    "printfn $\"{memoisedRandom}\"\n",
    "printfn $\"{memoisedRandom}\""
   ]
  }
 ],
 "metadata": {
  "kernelspec": {
   "display_name": ".NET (C#)",
   "language": "C#",
   "name": ".net-csharp"
  },
  "language_info": {
   "file_extension": ".cs",
   "mimetype": "text/x-csharp",
   "name": "C#",
   "pygments_lexer": "csharp",
   "version": "9.0"
  },
  "orig_nbformat": 4
 },
 "nbformat": 4,
 "nbformat_minor": 2
}
